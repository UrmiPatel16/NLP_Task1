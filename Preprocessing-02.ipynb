{
 "cells": [
  {
   "cell_type": "code",
   "execution_count": 33,
   "metadata": {},
   "outputs": [],
   "source": [
    "import pandas as pd\n",
    "df = pd.read_csv('/Users/urmi/Documents/NLP/Assignment_1/pmc-data-all.csv')"
   ]
  },
  {
   "cell_type": "code",
   "execution_count": 34,
   "metadata": {},
   "outputs": [],
   "source": [
    "import numpy as np\n",
    "import re\n",
    "import nltk\n",
    "import string\n",
    "import os\n",
    "import glob\n",
    "import pandas as pd\n",
    "import matplotlib.pyplot as plt\n",
    "%matplotlib inline\n",
    "import warnings \n",
    "warnings.filterwarnings('ignore')\n",
    "from nltk.tokenize import RegexpTokenizer \n",
    "\n"
   ]
  },
  {
   "cell_type": "code",
   "execution_count": 35,
   "metadata": {},
   "outputs": [],
   "source": [
    "\n",
    "PUNCT_TO_REMOVE = string.punctuation\n",
    "def remove_punctuation(text):\n",
    "    #custom function to remove the punctuation\n",
    "    return [t.translate(str.maketrans('', '', PUNCT_TO_REMOVE)) for t in text]\n",
    "    \n",
    "def stripWords(data):\n",
    "    return [word.strip() for word in data]\n",
    "\n",
    "def removeStopWordsAndLowerCase(data):\n",
    "    return [word.lower() for word in data if word not in nltk.corpus.stopwords.words(\"english\")]\n",
    "\n",
    "def countWordFrequency(data):\n",
    "    return nltk.FreqDist(word for word in data)\n",
    "\n",
    "def applyWordStemmer(data):\n",
    "    stemmer = nltk.stem.PorterStemmer()\n",
    "    return [stemmer.stem(word) for word in data]\n",
    "\n",
    "def applyWordLemmatizer(data):\n",
    "    lemmatizer = nltk.stem.WordNetLemmatizer()\n",
    "    return [lemmatizer.lemmatize(word) for word in data]"
   ]
  },
  {
   "cell_type": "code",
   "execution_count": 36,
   "metadata": {},
   "outputs": [],
   "source": [
    "# make it string\n",
    "df[\"Abstract\"] = df[\"Abstract\"].astype(str)"
   ]
  },
  {
   "cell_type": "code",
   "execution_count": null,
   "metadata": {},
   "outputs": [],
   "source": [
    "#Tokenize the data\n",
    "\n",
    "df[\"Tokenized abstract\"] = df[\"Abstract\"].apply(nltk.word_tokenize)\n",
    "\n",
    "#strip new line or line break characters\n",
    "df[\"Stripped Tokenized abstract\"] = df['Tokenized abstract'].apply(stripWords)\n",
    "\n",
    "#remove punctuations\n",
    "df['text_punct'] = df['Stripped Tokenized abstract'].apply(lambda text: remove_punctuation(text))\n",
    "\n",
    "#remove stop words and lower case words\n",
    "df[\"Stop word Tokenized abstract\"] = df['text_punct'].apply(removeStopWordsAndLowerCase)\n",
    "\n",
    "#Word stemming\n",
    "df['Stemmed abstract'] = df['Stop word Tokenized abstract'].apply(applyWordStemmer)\n",
    "\n",
    "#Word lemmatization\n",
    "df['Lemmatized abstract'] = df['Stop word Tokenized abstract'].apply(applyWordLemmatizer)\n",
    "\n",
    "#count stemmed word frequency\n",
    "df['Stemmed abstract freq'] = df['Stemmed abstract'].apply(countWordFrequency)\n",
    "\n",
    "#count lemmatized word frequency\n",
    "df['Lemmatized abstract freq'] = df['Lemmatized abstract'].apply(countWordFrequency)\n",
    "\n",
    "\n",
    "#with pd.option_context('display.max_columns', None, 'display.width', 500):\n",
    " #   print(df)\n",
    "#df.to_csv('/Users/urmi/Documents/NLP/Assignment_1/newnew.csv')\n",
    "\n",
    "\n"
   ]
  }
 ],
 "metadata": {
  "kernelspec": {
   "display_name": "Python 3",
   "language": "python",
   "name": "python3"
  },
  "language_info": {
   "codemirror_mode": {
    "name": "ipython",
    "version": 3
   },
   "file_extension": ".py",
   "mimetype": "text/x-python",
   "name": "python",
   "nbconvert_exporter": "python",
   "pygments_lexer": "ipython3",
   "version": "3.9.0"
  }
 },
 "nbformat": 4,
 "nbformat_minor": 4
}
